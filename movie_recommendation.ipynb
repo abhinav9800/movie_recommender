{
 "cells": [
  {
   "cell_type": "code",
   "execution_count": 1,
   "id": "27b13386",
   "metadata": {},
   "outputs": [],
   "source": [
    "import pandas as pd"
   ]
  },
  {
   "cell_type": "code",
   "execution_count": 2,
   "id": "048d3686",
   "metadata": {},
   "outputs": [],
   "source": [
    "ratings1 = pd.read_csv(\"C:\\\\Users\\\\Downloads\\\\archive - 2024-07-23T230612.925\\\\ratings.csv\")"
   ]
  },
  {
   "cell_type": "code",
   "execution_count": 3,
   "id": "e6a7c471",
   "metadata": {},
   "outputs": [],
   "source": [
    "movies1 = pd.read_csv(\"C:\\\\Users\\\\Downloads\\\\archive - 2024-07-23T230612.925\\\\movies1.csv\")"
   ]
  },
  {
   "cell_type": "code",
   "execution_count": 4,
   "id": "52ff4f0d",
   "metadata": {},
   "outputs": [],
   "source": [
    "movies4 = pd.read_csv(\"C:\\\\Users\\\\Downloads\\\\archive (83)\\\\imdb-movies-dataset.csv\",usecols=[\"Title\",\"Poster\"])"
   ]
  },
  {
   "cell_type": "code",
   "execution_count": 5,
   "id": "8ec14404",
   "metadata": {},
   "outputs": [],
   "source": [
    "movies4 = movies4.rename(columns={\"Title\":\"title\"})"
   ]
  },
  {
   "cell_type": "code",
   "execution_count": 6,
   "id": "549a48a3",
   "metadata": {},
   "outputs": [],
   "source": [
    "movies4 = movies4.rename(columns={\"Poster\":'poster_url'})"
   ]
  },
  {
   "cell_type": "code",
   "execution_count": 7,
   "id": "29164325",
   "metadata": {},
   "outputs": [],
   "source": [
    "movies = pd.read_csv(\"C:\\\\Users\\\\Downloads\\\\archive (83)\\\\imdb-movies-dataset.csv\", usecols=[\"Title\",\"Votes\"])"
   ]
  },
  {
   "cell_type": "code",
   "execution_count": 8,
   "id": "fa5036a1",
   "metadata": {},
   "outputs": [],
   "source": [
    "movies.dropna(inplace= True)"
   ]
  },
  {
   "cell_type": "code",
   "execution_count": 9,
   "id": "e096fb65",
   "metadata": {},
   "outputs": [],
   "source": [
    "movies.Votes = movies.Votes.str.replace(\",\", \"\").astype('int64')"
   ]
  },
  {
   "cell_type": "code",
   "execution_count": 10,
   "id": "36937f21",
   "metadata": {},
   "outputs": [],
   "source": [
    "movies2 = movies[movies.Votes>65000]"
   ]
  },
  {
   "cell_type": "code",
   "execution_count": 11,
   "id": "179b99b5",
   "metadata": {},
   "outputs": [
    {
     "data": {
      "text/plain": [
       "(3357, 2)"
      ]
     },
     "execution_count": 11,
     "metadata": {},
     "output_type": "execute_result"
    }
   ],
   "source": [
    "movies2.shape"
   ]
  },
  {
   "cell_type": "code",
   "execution_count": 12,
   "id": "6150cc9b",
   "metadata": {},
   "outputs": [
    {
     "name": "stderr",
     "output_type": "stream",
     "text": [
      "C:\\Users\\vansh\\AppData\\Local\\Temp\\ipykernel_1996\\3607139450.py:1: SettingWithCopyWarning: \n",
      "A value is trying to be set on a copy of a slice from a DataFrame\n",
      "\n",
      "See the caveats in the documentation: https://pandas.pydata.org/pandas-docs/stable/user_guide/indexing.html#returning-a-view-versus-a-copy\n",
      "  movies2.rename(columns={\"Title\": \"title\"}, inplace=True)\n"
     ]
    }
   ],
   "source": [
    "movies2.rename(columns={\"Title\": \"title\"}, inplace=True)"
   ]
  },
  {
   "cell_type": "code",
   "execution_count": 13,
   "id": "6781fe25",
   "metadata": {},
   "outputs": [
    {
     "data": {
      "text/html": [
       "<div>\n",
       "<style scoped>\n",
       "    .dataframe tbody tr th:only-of-type {\n",
       "        vertical-align: middle;\n",
       "    }\n",
       "\n",
       "    .dataframe tbody tr th {\n",
       "        vertical-align: top;\n",
       "    }\n",
       "\n",
       "    .dataframe thead th {\n",
       "        text-align: right;\n",
       "    }\n",
       "</style>\n",
       "<table border=\"1\" class=\"dataframe\">\n",
       "  <thead>\n",
       "    <tr style=\"text-align: right;\">\n",
       "      <th></th>\n",
       "      <th>title</th>\n",
       "      <th>Votes</th>\n",
       "    </tr>\n",
       "  </thead>\n",
       "  <tbody>\n",
       "    <tr>\n",
       "      <th>8</th>\n",
       "      <td>Anyone But You</td>\n",
       "      <td>82215</td>\n",
       "    </tr>\n",
       "    <tr>\n",
       "      <th>10</th>\n",
       "      <td>Dune: Part Two</td>\n",
       "      <td>401659</td>\n",
       "    </tr>\n",
       "    <tr>\n",
       "      <th>12</th>\n",
       "      <td>Gojira -1.0</td>\n",
       "      <td>71109</td>\n",
       "    </tr>\n",
       "    <tr>\n",
       "      <th>15</th>\n",
       "      <td>The Judge</td>\n",
       "      <td>204222</td>\n",
       "    </tr>\n",
       "    <tr>\n",
       "      <th>22</th>\n",
       "      <td>War for the Planet of the Apes</td>\n",
       "      <td>288425</td>\n",
       "    </tr>\n",
       "  </tbody>\n",
       "</table>\n",
       "</div>"
      ],
      "text/plain": [
       "                             title   Votes\n",
       "8                   Anyone But You   82215\n",
       "10                  Dune: Part Two  401659\n",
       "12                     Gojira -1.0   71109\n",
       "15                       The Judge  204222\n",
       "22  War for the Planet of the Apes  288425"
      ]
     },
     "execution_count": 13,
     "metadata": {},
     "output_type": "execute_result"
    }
   ],
   "source": [
    "movies2.head()"
   ]
  },
  {
   "cell_type": "code",
   "execution_count": 14,
   "id": "24bc3e28",
   "metadata": {},
   "outputs": [
    {
     "name": "stderr",
     "output_type": "stream",
     "text": [
      "C:\\Users\\vansh\\AppData\\Local\\Temp\\ipykernel_1996\\3998544164.py:1: SettingWithCopyWarning: \n",
      "A value is trying to be set on a copy of a slice from a DataFrame\n",
      "\n",
      "See the caveats in the documentation: https://pandas.pydata.org/pandas-docs/stable/user_guide/indexing.html#returning-a-view-versus-a-copy\n",
      "  movies2.rename(columns={'name': 'title'}, inplace=True)\n"
     ]
    }
   ],
   "source": [
    "movies2.rename(columns={'name': 'title'}, inplace=True)"
   ]
  },
  {
   "cell_type": "code",
   "execution_count": 15,
   "id": "5690f3dd",
   "metadata": {},
   "outputs": [
    {
     "data": {
      "text/html": [
       "<div>\n",
       "<style scoped>\n",
       "    .dataframe tbody tr th:only-of-type {\n",
       "        vertical-align: middle;\n",
       "    }\n",
       "\n",
       "    .dataframe tbody tr th {\n",
       "        vertical-align: top;\n",
       "    }\n",
       "\n",
       "    .dataframe thead th {\n",
       "        text-align: right;\n",
       "    }\n",
       "</style>\n",
       "<table border=\"1\" class=\"dataframe\">\n",
       "  <thead>\n",
       "    <tr style=\"text-align: right;\">\n",
       "      <th></th>\n",
       "      <th>poster_url</th>\n",
       "      <th>title</th>\n",
       "    </tr>\n",
       "  </thead>\n",
       "  <tbody>\n",
       "    <tr>\n",
       "      <th>0</th>\n",
       "      <td>https://m.media-amazon.com/images/M/MV5BYWRkZj...</td>\n",
       "      <td>The Idea of You</td>\n",
       "    </tr>\n",
       "    <tr>\n",
       "      <th>1</th>\n",
       "      <td>https://m.media-amazon.com/images/M/MV5BZGI4NT...</td>\n",
       "      <td>Kingdom of the Planet of the Apes</td>\n",
       "    </tr>\n",
       "    <tr>\n",
       "      <th>2</th>\n",
       "      <td>https://m.media-amazon.com/images/M/MV5BZjIyOT...</td>\n",
       "      <td>Unfrosted</td>\n",
       "    </tr>\n",
       "    <tr>\n",
       "      <th>3</th>\n",
       "      <td>https://m.media-amazon.com/images/M/MV5BMjA5Zj...</td>\n",
       "      <td>The Fall Guy</td>\n",
       "    </tr>\n",
       "    <tr>\n",
       "      <th>4</th>\n",
       "      <td>https://m.media-amazon.com/images/M/MV5BNTk1MT...</td>\n",
       "      <td>Challengers</td>\n",
       "    </tr>\n",
       "  </tbody>\n",
       "</table>\n",
       "</div>"
      ],
      "text/plain": [
       "                                          poster_url  \\\n",
       "0  https://m.media-amazon.com/images/M/MV5BYWRkZj...   \n",
       "1  https://m.media-amazon.com/images/M/MV5BZGI4NT...   \n",
       "2  https://m.media-amazon.com/images/M/MV5BZjIyOT...   \n",
       "3  https://m.media-amazon.com/images/M/MV5BMjA5Zj...   \n",
       "4  https://m.media-amazon.com/images/M/MV5BNTk1MT...   \n",
       "\n",
       "                               title  \n",
       "0                    The Idea of You  \n",
       "1  Kingdom of the Planet of the Apes  \n",
       "2                          Unfrosted  \n",
       "3                       The Fall Guy  \n",
       "4                        Challengers  "
      ]
     },
     "execution_count": 15,
     "metadata": {},
     "output_type": "execute_result"
    }
   ],
   "source": [
    "movies4.head()"
   ]
  },
  {
   "cell_type": "code",
   "execution_count": 16,
   "id": "a64db89f",
   "metadata": {},
   "outputs": [],
   "source": [
    "count1 = ratings1[\"userId\"].value_counts()\n",
    "filtered_userids = count1[count1 > 10].index\n",
    "filtered_ratings_df = ratings1[ratings1[\"userId\"].isin(filtered_userids)]"
   ]
  },
  {
   "cell_type": "code",
   "execution_count": 17,
   "id": "ab0dd19d",
   "metadata": {},
   "outputs": [],
   "source": [
    "ratings1 = filtered_ratings_df"
   ]
  },
  {
   "cell_type": "code",
   "execution_count": 18,
   "id": "fb7feb02",
   "metadata": {},
   "outputs": [
    {
     "name": "stderr",
     "output_type": "stream",
     "text": [
      "C:\\Users\\vansh\\AppData\\Local\\Temp\\ipykernel_1996\\3033983702.py:2: SettingWithCopyWarning: \n",
      "A value is trying to be set on a copy of a slice from a DataFrame.\n",
      "Try using .loc[row_indexer,col_indexer] = value instead\n",
      "\n",
      "See the caveats in the documentation: https://pandas.pydata.org/pandas-docs/stable/user_guide/indexing.html#returning-a-view-versus-a-copy\n",
      "  movies2['title'] = movies2['title'].str.lower()\n"
     ]
    }
   ],
   "source": [
    "movies1['title'] = movies1['title'].str.lower()\n",
    "movies2['title'] = movies2['title'].str.lower()\n",
    "movies4['title'] = movies4['title'].str.lower()"
   ]
  },
  {
   "cell_type": "code",
   "execution_count": 19,
   "id": "a006316b",
   "metadata": {},
   "outputs": [],
   "source": [
    "import re"
   ]
  },
  {
   "cell_type": "code",
   "execution_count": 20,
   "id": "9a225e03",
   "metadata": {},
   "outputs": [
    {
     "data": {
      "text/plain": [
       "62323"
      ]
     },
     "execution_count": 20,
     "metadata": {},
     "output_type": "execute_result"
    }
   ],
   "source": [
    "movies1.title.nunique()"
   ]
  },
  {
   "cell_type": "code",
   "execution_count": 21,
   "id": "3a58c649",
   "metadata": {},
   "outputs": [
    {
     "data": {
      "text/plain": [
       "3301"
      ]
     },
     "execution_count": 21,
     "metadata": {},
     "output_type": "execute_result"
    }
   ],
   "source": [
    "movies2.title.nunique()"
   ]
  },
  {
   "cell_type": "code",
   "execution_count": 22,
   "id": "be35e8bb",
   "metadata": {},
   "outputs": [
    {
     "name": "stderr",
     "output_type": "stream",
     "text": [
      "C:\\Users\\vansh\\AppData\\Local\\Temp\\ipykernel_1996\\1610544843.py:1: SettingWithCopyWarning: \n",
      "A value is trying to be set on a copy of a slice from a DataFrame.\n",
      "Try using .loc[row_indexer,col_indexer] = value instead\n",
      "\n",
      "See the caveats in the documentation: https://pandas.pydata.org/pandas-docs/stable/user_guide/indexing.html#returning-a-view-versus-a-copy\n",
      "  movies2['title'] = movies2['title'].str.replace('Se7en', 'Seven', case=False)\n"
     ]
    }
   ],
   "source": [
    "movies2['title'] = movies2['title'].str.replace('Se7en', 'Seven', case=False)"
   ]
  },
  {
   "cell_type": "code",
   "execution_count": 23,
   "id": "6e346279",
   "metadata": {},
   "outputs": [],
   "source": [
    "def remove_brackets(text):\n",
    "    return re.sub(r'\\(.*?\\)', '', text).strip()\n",
    "movies1['title'] = movies1['title'].apply(remove_brackets)\n",
    "movies4['title'] = movies4['title'].apply(remove_brackets)"
   ]
  },
  {
   "cell_type": "code",
   "execution_count": 24,
   "id": "dbbd90f6",
   "metadata": {},
   "outputs": [],
   "source": [
    "def rearrange_movie_name(text):\n",
    "    # Use regex to find and replace the pattern\n",
    "    return re.sub(r'^(.*), (The|the|A|a)$', r'\\2 \\1', text, flags=re.IGNORECASE)\n",
    "\n",
    "\n",
    "movies1['title'] = movies1['title'].apply(rearrange_movie_name)\n",
    "movies4['title'] = movies4['title'].apply(rearrange_movie_name)"
   ]
  },
  {
   "cell_type": "code",
   "execution_count": 25,
   "id": "68dd1e5a",
   "metadata": {},
   "outputs": [],
   "source": [
    "movies1['title'] = movies1['title'].str.replace('&', 'and')\n",
    "movies4['title'] = movies4['title'].str.replace('&', 'and')"
   ]
  },
  {
   "cell_type": "code",
   "execution_count": 26,
   "id": "54fa98de",
   "metadata": {},
   "outputs": [
    {
     "name": "stderr",
     "output_type": "stream",
     "text": [
      "C:\\Users\\vansh\\AppData\\Local\\Temp\\ipykernel_1996\\2618634316.py:1: SettingWithCopyWarning: \n",
      "A value is trying to be set on a copy of a slice from a DataFrame.\n",
      "Try using .loc[row_indexer,col_indexer] = value instead\n",
      "\n",
      "See the caveats in the documentation: https://pandas.pydata.org/pandas-docs/stable/user_guide/indexing.html#returning-a-view-versus-a-copy\n",
      "  movies2['title'] = movies2['title'].str.replace('&', 'and')\n"
     ]
    }
   ],
   "source": [
    "movies2['title'] = movies2['title'].str.replace('&', 'and')"
   ]
  },
  {
   "cell_type": "code",
   "execution_count": 27,
   "id": "63d0df46",
   "metadata": {},
   "outputs": [],
   "source": [
    "merged_df = pd.merge(movies1, ratings1, on = \"movieId\")"
   ]
  },
  {
   "cell_type": "code",
   "execution_count": 28,
   "id": "c0c1cd70",
   "metadata": {},
   "outputs": [],
   "source": [
    "merged_df = pd.merge(merged_df,movies2, on = \"title\")"
   ]
  },
  {
   "cell_type": "code",
   "execution_count": 29,
   "id": "ae3d929d",
   "metadata": {},
   "outputs": [],
   "source": [
    "df = merged_df"
   ]
  },
  {
   "cell_type": "code",
   "execution_count": 30,
   "id": "0cfb005d",
   "metadata": {},
   "outputs": [],
   "source": [
    "df = merged_df.pivot_table(index='title', columns='userId', values='rating')"
   ]
  },
  {
   "cell_type": "code",
   "execution_count": 31,
   "id": "f3e8cc62",
   "metadata": {},
   "outputs": [],
   "source": [
    "df = df.reset_index()"
   ]
  },
  {
   "cell_type": "code",
   "execution_count": 32,
   "id": "816128dc",
   "metadata": {},
   "outputs": [],
   "source": [
    "movies4 = movies4.drop_duplicates(subset='title', keep='first')"
   ]
  },
  {
   "cell_type": "code",
   "execution_count": 33,
   "id": "006d2514",
   "metadata": {},
   "outputs": [],
   "source": [
    "df = pd.merge(df, movies4, on =\"title\")"
   ]
  },
  {
   "cell_type": "code",
   "execution_count": 34,
   "id": "e6c3e5c3",
   "metadata": {},
   "outputs": [],
   "source": [
    "df.set_index('title', inplace=True)"
   ]
  },
  {
   "cell_type": "code",
   "execution_count": 35,
   "id": "716c18ba",
   "metadata": {},
   "outputs": [
    {
     "data": {
      "text/plain": [
       "(2792, 162539)"
      ]
     },
     "execution_count": 35,
     "metadata": {},
     "output_type": "execute_result"
    }
   ],
   "source": [
    "df.shape"
   ]
  },
  {
   "cell_type": "code",
   "execution_count": 36,
   "id": "6eb9942e",
   "metadata": {},
   "outputs": [],
   "source": [
    "from sklearn.metrics.pairwise import cosine_similarity\n",
    "import numpy as np"
   ]
  },
  {
   "cell_type": "code",
   "execution_count": 37,
   "id": "b1950543",
   "metadata": {},
   "outputs": [],
   "source": [
    "df.fillna(0,inplace=True)"
   ]
  },
  {
   "cell_type": "code",
   "execution_count": 38,
   "id": "a427f236",
   "metadata": {},
   "outputs": [],
   "source": [
    "item_similarity = cosine_similarity(df.drop(columns=['poster_url']))\n",
    "np.fill_diagonal(item_similarity, 0) "
   ]
  },
  {
   "cell_type": "code",
   "execution_count": 39,
   "id": "4bcd89ed",
   "metadata": {},
   "outputs": [],
   "source": [
    "def recommend(movie):\n",
    "    index = np.where(df.index == movie)[0][0]\n",
    "    similar_movies = sorted(list(enumerate(item_similarity[index])),key=lambda x:x[1],reverse=True)[0:16]\n",
    "    for i in similar_movies:\n",
    "        print(df.index[i[0]])"
   ]
  },
  {
   "cell_type": "code",
   "execution_count": 40,
   "id": "46df107f",
   "metadata": {
    "scrolled": false
   },
   "outputs": [
    {
     "name": "stdout",
     "output_type": "stream",
     "text": [
      "the lord of the rings: the two towers\n",
      "the lord of the rings: the return of the king\n",
      "the matrix\n",
      "pirates of the caribbean: the curse of the black pearl\n",
      "shrek\n",
      "fight club\n",
      "gladiator\n",
      "star wars: episode v - the empire strikes back\n",
      "batman begins\n",
      "spider-man\n",
      "finding nemo\n",
      "the dark knight\n",
      "monsters, inc.\n",
      "memento\n",
      "kill bill: vol. 1\n",
      "ocean's eleven\n"
     ]
    }
   ],
   "source": [
    "recommend(\"the lord of the rings: the fellowship of the ring\".lower())"
   ]
  },
  {
   "cell_type": "code",
   "execution_count": 41,
   "id": "3ed6e298",
   "metadata": {},
   "outputs": [],
   "source": [
    "import pickle"
   ]
  },
  {
   "cell_type": "code",
   "execution_count": 42,
   "id": "a04713e5",
   "metadata": {},
   "outputs": [],
   "source": [
    "with open('movie_df.pkl', 'wb') as f:\n",
    "    pickle.dump(df, f)"
   ]
  },
  {
   "cell_type": "code",
   "execution_count": 43,
   "id": "596f77f8",
   "metadata": {},
   "outputs": [],
   "source": [
    "with open('item_similarity.pkl', 'wb') as f:\n",
    "    pickle.dump(item_similarity, f)"
   ]
  },
  {
   "cell_type": "code",
   "execution_count": null,
   "id": "5227e044",
   "metadata": {},
   "outputs": [],
   "source": []
  }
 ],
 "metadata": {
  "kernelspec": {
   "display_name": "Python 3 (ipykernel)",
   "language": "python",
   "name": "python3"
  },
  "language_info": {
   "codemirror_mode": {
    "name": "ipython",
    "version": 3
   },
   "file_extension": ".py",
   "mimetype": "text/x-python",
   "name": "python",
   "nbconvert_exporter": "python",
   "pygments_lexer": "ipython3",
   "version": "3.11.4"
  }
 },
 "nbformat": 4,
 "nbformat_minor": 5
}
